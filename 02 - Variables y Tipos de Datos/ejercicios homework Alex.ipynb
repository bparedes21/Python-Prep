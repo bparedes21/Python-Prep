{
 "cells": [
  {
   "cell_type": "markdown",
   "metadata": {},
   "source": [
    "## Variables\n",
    "\n",
    "1) Crear una variable que contenga un elemento del conjunto de números enteros y luego imprimir por pantalla\n",
    "\n",
    "2) Imprimir el tipo de dato de la constante 8.5\n",
    "\n",
    "3) Imprimir el tipo de dato de la variable creada en el punto 1\n",
    "\n",
    "4) Crear una variable que contenga tu nombre\n",
    "\n",
    "5) Crear una variable que contenga un número complejo\n",
    "\n",
    "6) Mostrar el tipo de dato de la variable crada en el punto 5\n",
    "\n",
    "7) Crear una variable que contenga el valor del número Pi redondeado a 4 decimales\n",
    "\n",
    "8) Crear una variable que contenga el valor 'True' y otra que contenga el valor True. ¿Se trata de lo mismo?\n",
    "\n",
    "9) Imprimir el tipo de dato correspondientes a las variables creadas en el punto 9\n",
    "\n",
    "10) Asignar a una variable, la suma de un número entero y otro decimal\n",
    "\n",
    "11) Realizar una operación de suma de números complejos\n",
    "\n",
    "12) Realizar una operación de suma de un número real y otro complejo\n",
    "\n",
    "13) Realizar una operación de multiplicación\n",
    "\n",
    "14) Mostrar el resultado de elevar 2 a la octava potencia\n",
    "\n",
    "15) Obtener el cociente de la división de 27 entre 4 en una variable y luego mostrarla\n",
    "\n",
    "16) De la división anterior solamente mostrar la parte entera\n",
    "\n",
    "17) De la división de 27 entre 4 mostrar solamente el resto\n",
    "\n",
    "18) Utilizando como operandos el número 4 y los resultados obtenidos en los puntos 16 y 17. Obtener 27 como resultado\n",
    "\n",
    "19) Utilizar el operador \"+\" en una operación donde intervengan solo variables alfanuméricas\n",
    "\n",
    "20) Evaluar si \"2\" es igual a 2. ¿Por qué ocurre eso?\n",
    "\n",
    "21) Utilizar las funciones de cambio de tipo de dato, para que la validación del punto 20 resulte verdadera\n",
    "\n",
    "22) ¿Por qué arroja error el siguiente cambio de tipo de datos? a = float('3,8')\n",
    "\n",
    "23) Crear una variable con el valor 3, y utilizar el operador '-=' para modificar su contenido\n",
    "\n",
    "24) Realizar la operacion 1 << 2 ¿Por qué da ese resultado? ¿Qué es el sistema de numeración binario?\n",
    "\n",
    "25) Realizar la operación 2 + '2' ¿Por qué no está permitido? ¿Si los dos operandos serían del mismo tipo, siempre arrojaría el mismo resultado?\n",
    "\n",
    "26) Realizar una operación válida entre valores de tipo entero y string"
   ]
  },
  {
   "cell_type": "markdown",
   "metadata": {},
   "source": [
    "1) Crear una variable que contenga un elemento del conjunto de números enteros y luego imprimir por pantalla\n"
   ]
  },
  {
   "cell_type": "code",
   "execution_count": 4,
   "metadata": {},
   "outputs": [
    {
     "name": "stdout",
     "output_type": "stream",
     "text": [
      "56\n",
      "<class 'int'>\n"
     ]
    }
   ],
   "source": [
    "ElementojuntoEntero=56\n",
    "print(ElementojuntoEntero)\n",
    "type(ElementojuntoEntero)\n",
    "print(type(ElementojuntoEntero))"
   ]
  },
  {
   "cell_type": "markdown",
   "metadata": {},
   "source": [
    "2) Imprimir el tipo de dato de la constante 8.5"
   ]
  },
  {
   "cell_type": "code",
   "execution_count": 5,
   "metadata": {},
   "outputs": [
    {
     "name": "stdout",
     "output_type": "stream",
     "text": [
      "<class 'float'>\n"
     ]
    }
   ],
   "source": [
    "DatoConstante=8.5\n",
    "print(type(DatoConstante))"
   ]
  },
  {
   "cell_type": "markdown",
   "metadata": {},
   "source": [
    "Crear una variable que contenga tu nombre"
   ]
  },
  {
   "cell_type": "code",
   "execution_count": 6,
   "metadata": {},
   "outputs": [
    {
     "name": "stdout",
     "output_type": "stream",
     "text": [
      "Alex\n"
     ]
    },
    {
     "data": {
      "text/plain": [
       "str"
      ]
     },
     "execution_count": 6,
     "metadata": {},
     "output_type": "execute_result"
    }
   ],
   "source": [
    "MiNombre=\"Alex\"\n",
    "print(MiNombre)\n",
    "type(MiNombre)"
   ]
  },
  {
   "cell_type": "markdown",
   "metadata": {},
   "source": [
    "5) Crear una variable que contenga un número complejo"
   ]
  },
  {
   "cell_type": "code",
   "execution_count": 7,
   "metadata": {},
   "outputs": [
    {
     "name": "stdout",
     "output_type": "stream",
     "text": [
      "(8+8j)\n"
     ]
    },
    {
     "data": {
      "text/plain": [
       "complex"
      ]
     },
     "execution_count": 7,
     "metadata": {},
     "output_type": "execute_result"
    }
   ],
   "source": [
    "\n",
    "NumeroComplejo=8 +8 j\n",
    "print(NumeroComplejo)\n",
    "type(NumeroComplejo)"
   ]
  },
  {
   "cell_type": "markdown",
   "metadata": {},
   "source": [
    "7) Crear una variable que contenga el valor del número Pi redondeado a 4 decimales"
   ]
  },
  {
   "cell_type": "code",
   "execution_count": 10,
   "metadata": {},
   "outputs": [
    {
     "name": "stdout",
     "output_type": "stream",
     "text": [
      "3.141592653589793\n",
      "3.14\n"
     ]
    }
   ],
   "source": [
    "import math\n",
    "import decimal\n",
    "# Print the value of pi\n",
    "print (math.pi)\n",
    "# normal float\n",
    "VarPi=round(math.pi, 2)\n",
    "print(VarPi)"
   ]
  },
  {
   "cell_type": "markdown",
   "metadata": {},
   "source": [
    "8) Crear una variable que contenga el valor 'True' y otra que contenga el valor True. ¿Se trata de lo mismo?\n",
    "9) Imprimir el tipo de dato correspondientes a las variables creadas en el punto 8"
   ]
  },
  {
   "cell_type": "code",
   "execution_count": 16,
   "metadata": {},
   "outputs": [
    {
     "name": "stdout",
     "output_type": "stream",
     "text": [
      "True\n",
      "True\n",
      "<class 'str'>\n",
      "aca\n",
      "<class 'bool'>\n"
     ]
    }
   ],
   "source": [
    "ValorTrue=\"True\"\n",
    "ValorTrue1=True\n",
    "print(ValorTrue)\n",
    "print(ValorTrue1)\n",
    "print(type(ValorTrue))\n",
    "type(ValorTrue)\n",
    "print(\"aca\")\n",
    "print(type(ValorTrue1))"
   ]
  },
  {
   "cell_type": "markdown",
   "metadata": {},
   "source": [
    "10) Asignar a una variable, la suma de un número entero y otro decimal"
   ]
  },
  {
   "cell_type": "code",
   "execution_count": 17,
   "metadata": {},
   "outputs": [
    {
     "name": "stdout",
     "output_type": "stream",
     "text": [
      "14.2\n"
     ]
    }
   ],
   "source": [
    "SunaEnteroYDecinal=6+8.2\n",
    "print(SunaEnteroYDecinal)"
   ]
  },
  {
   "cell_type": "markdown",
   "metadata": {},
   "source": [
    " Realizar una operación de suma de números complejos"
   ]
  },
  {
   "cell_type": "code",
   "execution_count": 18,
   "metadata": {},
   "outputs": [
    {
     "name": "stdout",
     "output_type": "stream",
     "text": [
      "(13+13j)\n"
     ]
    }
   ],
   "source": [
    "NumeroComplejo1=4+4j\n",
    "NumeroComplejo2=9+9j\n",
    "NumeroComplejo= NumeroComplejo1 + NumeroComplejo2\n",
    "print(NumeroComplejo)"
   ]
  },
  {
   "cell_type": "markdown",
   "metadata": {},
   "source": [
    "12) Realizar una operación de suma de un número real y otro complejo"
   ]
  },
  {
   "cell_type": "code",
   "execution_count": 19,
   "metadata": {},
   "outputs": [
    {
     "name": "stdout",
     "output_type": "stream",
     "text": [
      "(17+13j)\n"
     ]
    }
   ],
   "source": [
    "NumeroReal=4\n",
    "SumaNuneroRealComplejo=NumeroComplejo + NumeroReal\n",
    "print(SumaNuneroRealComplejo)"
   ]
  },
  {
   "cell_type": "markdown",
   "metadata": {},
   "source": [
    "13) Realizar una operación de multiplicación\n",
    "\n",
    "14) Mostrar el resultado de elevar 2 a la octava potencia\n",
    "\n",
    "15) Obtener el cociente de la división de 27 entre 4 en una variable y luego mostrarla\n",
    "16) De la división anterior solamente mostrar la parte entera\n",
    "17) De la división de 27 entre 4 mostrar solamente el resto\n",
    "18) Utilizando como operandos el número 4 y los resultados obtenidos en los puntos 16 y 17. Obtener 27 como resultado"
   ]
  },
  {
   "cell_type": "code",
   "execution_count": 31,
   "metadata": {},
   "outputs": [
    {
     "name": "stdout",
     "output_type": "stream",
     "text": [
      "15\n",
      "256\n",
      "27\n",
      "6.75\n",
      "6\n",
      "3\n",
      "27\n"
     ]
    }
   ],
   "source": [
    "NumeroEntero1=8\n",
    "NumeroEntero=7\n",
    "ResultadoSumaNumerosEnteros=NumeroEntero+NumeroEntero1\n",
    "print(ResultadoSumaNumerosEnteros)\n",
    "\n",
    "NumeroEnteroDos=2\n",
    "print(NumeroEnteroDos**8)\n",
    "\n",
    "NumeroVeintiSiete=27\n",
    "NumeroCuatro=4\n",
    "print(NumeroVeintiSiete)\n",
    "CoeficienteDivicion=NumeroVeintiSiete / NumeroCuatro\n",
    "ParteEntera=NumeroVeintiSiete // NumeroCuatro\n",
    "RestoDivision=NumeroVeintiSiete % NumeroCuatro\n",
    "ResultadoVeintiSiete=RestoDivision+NumeroCuatro*ParteEntera\n",
    "print(CoeficienteDivicion)\n",
    "print(27 // 4)\n",
    "print(27 % 4)\n",
    "print(ResultadoVeintiSiete)"
   ]
  },
  {
   "cell_type": "markdown",
   "metadata": {},
   "source": [
    "19) Utilizar el operador \"+\" en una operación donde intervengan solo variables alfanuméricas\n",
    "20) Evaluar si \"2\" es igual a 2. ¿Por qué ocurre eso?\n",
    "21) Utilizar las funciones de cambio de tipo de dato, para que la validación del punto 20 resulte verdadera"
   ]
  },
  {
   "cell_type": "code",
   "execution_count": 35,
   "metadata": {},
   "outputs": [
    {
     "name": "stdout",
     "output_type": "stream",
     "text": [
      "Nombre y Apellido\n"
     ]
    },
    {
     "data": {
      "text/plain": [
       "True"
      ]
     },
     "execution_count": 35,
     "metadata": {},
     "output_type": "execute_result"
    }
   ],
   "source": [
    "VariableAlfanumerica1=\"Nombre y \"\n",
    "VariableAlfanumerica2=\"Apellido\"\n",
    "OperacionSumaAlfanumerica=VariableAlfanumerica1+VariableAlfanumerica2\n",
    "print(OperacionSumaAlfanumerica)\n",
    "2== \"2\"\n",
    "2==int(\"2\")\n"
   ]
  },
  {
   "cell_type": "markdown",
   "metadata": {},
   "source": [
    "22) ¿Por qué arroja error el siguiente cambio de tipo de datos? a = float('3,8')\n",
    "Arroja error porques esta con como y no representa un numero flotante"
   ]
  },
  {
   "cell_type": "code",
   "execution_count": 37,
   "metadata": {},
   "outputs": [],
   "source": [
    "a = float(\"3.8\") "
   ]
  },
  {
   "cell_type": "markdown",
   "metadata": {},
   "source": [
    "23) Crear una variable con el valor 3, y utilizar el operador '-=' para modificar su contenido"
   ]
  },
  {
   "cell_type": "code",
   "execution_count": 40,
   "metadata": {},
   "outputs": [
    {
     "name": "stdout",
     "output_type": "stream",
     "text": [
      "2\n"
     ]
    }
   ],
   "source": [
    "VariableValorTres=3\n",
    "VariableValorTres-=1\n",
    "print(VariableValorTres)"
   ]
  },
  {
   "cell_type": "markdown",
   "metadata": {},
   "source": [
    "24) Realizar la operacion 1 << 2 ¿Por qué da ese resultado? ¿Qué es el sistema de numeración binario?\n",
    "realiza una suma dos veces"
   ]
  },
  {
   "cell_type": "code",
   "execution_count": 47,
   "metadata": {},
   "outputs": [
    {
     "data": {
      "text/plain": [
       "256"
      ]
     },
     "execution_count": 47,
     "metadata": {},
     "output_type": "execute_result"
    }
   ],
   "source": [
    "8 << 5 # shift to left by 5 bits\n",
    "\n",
    "\n"
   ]
  }
 ],
 "metadata": {
  "interpreter": {
   "hash": "2be5faf79681da6f2a61fdfdd5405d65d042280f7fba6178067603e3a2925119"
  },
  "kernelspec": {
   "display_name": "Python 3.10.2 64-bit",
   "language": "python",
   "name": "python3"
  },
  "language_info": {
   "codemirror_mode": {
    "name": "ipython",
    "version": 3
   },
   "file_extension": ".py",
   "mimetype": "text/x-python",
   "name": "python",
   "nbconvert_exporter": "python",
   "pygments_lexer": "ipython3",
   "version": "3.10.2"
  },
  "orig_nbformat": 4
 },
 "nbformat": 4,
 "nbformat_minor": 2
}
