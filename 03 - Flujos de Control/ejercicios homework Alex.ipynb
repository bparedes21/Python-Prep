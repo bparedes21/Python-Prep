{
 "cells": [
  {
   "cell_type": "markdown",
   "metadata": {},
   "source": []
  },
  {
   "cell_type": "code",
   "execution_count": null,
   "metadata": {},
   "outputs": [],
   "source": [
    "NumeroEntero=-5\n",
    "if (NumeroEntero > 0):\n",
    "    print('es mayor a 0')\n",
    "elif (NumeroEntero < 0):\n",
    "    print(\"es menor a 0\")\n",
    "else: \n",
    "    print(\"es igual a 0\")\n",
    "\n"
   ]
  },
  {
   "cell_type": "markdown",
   "metadata": {},
   "source": [
    "2) Crear dos variables y un condicional que informe si son del mismo tipo de dato"
   ]
  },
  {
   "cell_type": "code",
   "execution_count": null,
   "metadata": {},
   "outputs": [],
   "source": [
    "VariableDato1=\"lol\"\n",
    "VariableDato2=3.5\n",
    "if(type(VariableDato1))==type(VariableDato2):\n",
    "    print(\"es el mismo tipo de dato\")\n",
    "else:\n",
    "    print(\"no es el mismo tipo de datos\")"
   ]
  },
  {
   "cell_type": "markdown",
   "metadata": {},
   "source": [
    "3) Para los valores enteros del 1 al 20, imprimir por pantalla si es par o impar"
   ]
  },
  {
   "cell_type": "code",
   "execution_count": null,
   "metadata": {},
   "outputs": [],
   "source": [
    "\n",
    "for n in range (1 , 21):\n",
    "    \n",
    "    resto= n % 2 \n",
    "    \n",
    "    if(resto==0):\n",
    "        print(\"el numero: \", n,\" es par\")\n",
    "    else:\n",
    "        print(\"el numero: \",n,\" es impar\")"
   ]
  },
  {
   "cell_type": "markdown",
   "metadata": {},
   "source": [
    "4) En un ciclo for mostrar para los valores entre 0 y 5 el resultado de elevarlo a la potencia igual a 3"
   ]
  },
  {
   "cell_type": "code",
   "execution_count": null,
   "metadata": {},
   "outputs": [],
   "source": [
    "for n in range(6):\n",
    "    print(\"el numero a elevar a la 3 potencia es: \",n)\n",
    "    NumeroElevdo= n**3\n",
    "    print(\"el numero elevado a la 3 potencia es: \",NumeroElevdo)"
   ]
  },
  {
   "cell_type": "markdown",
   "metadata": {},
   "source": [
    "5) Crear una variable que contenga un número entero y realizar un ciclo for la misma cantidad de ciclos"
   ]
  },
  {
   "cell_type": "code",
   "execution_count": null,
   "metadata": {},
   "outputs": [],
   "source": [
    "NuneroBucle=8\n",
    "\n",
    "NuneroBucle+=1\n",
    "\n",
    "for n in range(1,NuneroBucle):\n",
    "    print(\"Cantidad de iteraciones\", n)"
   ]
  },
  {
   "cell_type": "markdown",
   "metadata": {},
   "source": [
    "6) Utilizar un ciclo while para realizar el factoreo de un número guardado en una variable, sólo si la variable contiene un número entero mayor a 0"
   ]
  },
  {
   "cell_type": "code",
   "execution_count": null,
   "metadata": {},
   "outputs": [],
   "source": [
    "NumeroEntero=5\n",
    "factorial=NumeroEntero\n",
    "\n",
    "if(type(NumeroEntero)==int):\n",
    "    if( NumeroEntero > 0):\n",
    "        \n",
    "        while(NumeroEntero>2):    \n",
    "            print(\"NumeroEntero\", NumeroEntero)\n",
    "            NumeroEntero = NumeroEntero-1\n",
    "            print(\"RESTA\", NumeroEntero)\n",
    "            \n",
    "            factorial = factorial * NumeroEntero\n",
    "            print(\"factorial\", factorial)\n",
    "\n",
    "    else:\n",
    "        print(\"No es mayor a 0\", NumeroEntero)\n",
    "else:\n",
    "    print(\"mo es entero\")\n"
   ]
  },
  {
   "cell_type": "markdown",
   "metadata": {},
   "source": [
    "7) Crear un ciclo for dentro de un ciclo while\n"
   ]
  },
  {
   "cell_type": "code",
   "execution_count": null,
   "metadata": {},
   "outputs": [],
   "source": [
    "j=3\n",
    "n=0\n",
    "while (n!=1):\n",
    "    \n",
    "    # en el bucle for range va con coma\n",
    "    for numero in range(0,j):\n",
    "        print(\"numero\",numero)\n",
    "    n=1        \n",
    "\n",
    "   "
   ]
  },
  {
   "cell_type": "markdown",
   "metadata": {},
   "source": [
    "8) Crear un ciclo while dentro de un ciclo for"
   ]
  },
  {
   "cell_type": "code",
   "execution_count": null,
   "metadata": {},
   "outputs": [],
   "source": [
    "inicio=0\n",
    "fin=5\n",
    "for inicio in range (0,fin):\n",
    "    bueclewhile=0\n",
    "    while (bueclewhile==0):\n",
    "        print(\"bucle\",inicio)\n",
    "        bueclewhile=1"
   ]
  },
  {
   "cell_type": "markdown",
   "metadata": {},
   "source": [
    "9) Imprimir los números primos existentes entre 0 y 30 "
   ]
  },
  {
   "cell_type": "code",
   "execution_count": null,
   "metadata": {},
   "outputs": [],
   "source": [
    "n=2\n",
    "\n",
    "for NumeroMinimo in range (n, 31):\n",
    "    ResultadoPrimo=NumeroMinimo/2\n",
    "    ResultadoPrimo2= NumeroMinimo % 2\n",
    "    if(ResultadoPrimo2==0 and ResultadoPrimo==1):\n",
    "        print(\"Es primo: \",NumeroMinimo)\n",
    "    else:\n",
    "        print(\"No es primo: \", NumeroMinimo)\n",
    "        \n",
    "        \n"
   ]
  }
 ],
 "metadata": {
  "interpreter": {
   "hash": "2be5faf79681da6f2a61fdfdd5405d65d042280f7fba6178067603e3a2925119"
  },
  "kernelspec": {
   "display_name": "Python 3.10.2 64-bit",
   "language": "python",
   "name": "python3"
  },
  "language_info": {
   "codemirror_mode": {
    "name": "ipython",
    "version": 3
   },
   "file_extension": ".py",
   "mimetype": "text/x-python",
   "name": "python",
   "nbconvert_exporter": "python",
   "pygments_lexer": "ipython3",
   "version": "3.10.2"
  },
  "orig_nbformat": 4
 },
 "nbformat": 4,
 "nbformat_minor": 2
}
