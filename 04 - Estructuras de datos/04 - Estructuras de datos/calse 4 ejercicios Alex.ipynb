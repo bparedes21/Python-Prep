{
 "cells": [
  {
   "cell_type": "markdown",
   "metadata": {},
   "source": [
    "1) Crear una lista que contenga nombres de ciudades del mundo que contenga más de 5 elementos e imprimir por pantalla\n",
    "\n",
    "2) Imprimir por pantalla el segundo elemento de la lista\n",
    "\n",
    "3) Imprimir por pantalla del segundo al cuarto elemento\n",
    "\n",
    "4) Visualizar el tipo de dato de la lista\n",
    "\n",
    "5) Visualizar todos los elementos de la lista a partir del tercero de manera genérica, es decir, sin explicitar la posición del último elemento\n",
    "\n",
    "6) Visualizar los primeros 4 elementos de la lista\n",
    "\n",
    "7) Agregar una ciudad más a la lista que ya exista y otra que no ¿Arroja algún tipo de error?\n",
    "\n",
    "8) Agregar otra ciudad, pero en la cuarta posición\n",
    "\n",
    "9) Concatenar otra lista a la ya creada\n",
    "\n",
    "10) Encontrar el índice de la ciudad que en el punto 7 agregamos duplicada. ¿Se nota alguna particularidad?\n",
    "\n",
    "11) ¿Qué pasa si se busca un elemento que no existe?\n",
    "\n",
    "12) Eliminar un elemento de la lista\n",
    "\n",
    "13) ¿Qué pasa si el elemento a eliminar no existe?\n",
    "\n",
    "14) Extraer el úlimo elemento de la lista, guardarlo en una variable e imprimirlo\n",
    "\n",
    "15) Mostrar la lista multiplicada por 4\n",
    "\n",
    "16) Crear una tupla que contenga los números enteros del 1 al 20\n",
    "\n",
    "17) Imprimir desde el índice 10 al 15 de la tupla\n",
    "\n",
    "18) Evaluar si los números 20 y 30 están dentro de la tupla\n",
    "\n",
    "19) Con la lista creada en el punto 1, validar la existencia del elemento 'París' y si no existe, agregarlo. Utilizar una variable e informar lo sucedido.\n",
    "\n",
    "20) Mostrar la cantidad de veces que se encuentra un elemento específico dentro de la tupla y de la lista\n",
    "\n",
    "21) Convertir la tupla en una lista\n",
    "\n",
    "22) Desempaquetar solo los primeros 3 elementos de la tupla en 3 variables\n",
    "\n",
    "23) Crear un diccionario utilizando la lista crada en el punto 1, asignandole la clave \"ciudad\". Agregar tambien otras claves, como puede ser \"Pais\" y \"Continente\".\n",
    "\n",
    "24) Imprimir las claves del diccionario\n",
    "\n",
    "25) Imprimir las ciudades a través de su clave\n"
   ]
  },
  {
   "cell_type": "code",
   "execution_count": null,
   "metadata": {},
   "outputs": [],
   "source": [
    "1) Crear una lista que contenga nombres de ciudades del mundo que contenga más de 5 elementos e imprimir por pantalla"
   ]
  },
  {
   "cell_type": "code",
   "execution_count": null,
   "metadata": {},
   "outputs": [],
   "source": [
    "\n",
    "ListaNombresCiudades=[\"New York\",\"Cusco\",\"Medellin\",\"Lima\",\"La paz\"]\n",
    "print(\"Nombre\",ListaNombresCiudades)"
   ]
  },
  {
   "cell_type": "markdown",
   "metadata": {},
   "source": [
    "2) Imprimir por pantalla el segundo elemento de la lista"
   ]
  },
  {
   "cell_type": "code",
   "execution_count": null,
   "metadata": {},
   "outputs": [],
   "source": [
    "print(\"segundo elemento\",ListaNombres[1])"
   ]
  },
  {
   "cell_type": "markdown",
   "metadata": {},
   "source": [
    "3) Imprimir por pantalla del segundo al cuarto elemento"
   ]
  },
  {
   "cell_type": "code",
   "execution_count": null,
   "metadata": {},
   "outputs": [],
   "source": [
    "#listaNombre1=ListaNombres[1:4]\n",
    "print(\"segundo elemento\",ListaNombres[1:4])"
   ]
  },
  {
   "cell_type": "markdown",
   "metadata": {},
   "source": [
    "4) Visualizar el tipo de dato de la lista"
   ]
  },
  {
   "cell_type": "code",
   "execution_count": null,
   "metadata": {},
   "outputs": [],
   "source": [
    "type(ListaNombres)"
   ]
  },
  {
   "cell_type": "markdown",
   "metadata": {},
   "source": [
    "5) Visualizar todos los elementos de la lista a partir del tercero de manera genérica, es decir, sin explicitar la posición del último elemento"
   ]
  },
  {
   "cell_type": "code",
   "execution_count": null,
   "metadata": {},
   "outputs": [],
   "source": [
    "ListaNombre1=ListaNombres[2:]\n",
    "print(\"segundo elemento\",ListaNombre1)"
   ]
  },
  {
   "cell_type": "markdown",
   "metadata": {},
   "source": [
    "6) Visualizar los primeros 4 elementos de la lista"
   ]
  },
  {
   "cell_type": "code",
   "execution_count": null,
   "metadata": {},
   "outputs": [],
   "source": [
    "\n",
    "print(\"segundo elemento\",ListaNombres[:3])"
   ]
  },
  {
   "cell_type": "markdown",
   "metadata": {},
   "source": [
    "7) Agregar una ciudad más a la lista que ya exista y otra que no ¿Arroja algún tipo de error?"
   ]
  },
  {
   "cell_type": "code",
   "execution_count": null,
   "metadata": {},
   "outputs": [],
   "source": [
    "ListaCiudades=['Avellaneda','Caseros','El palomar','San miguel','Quilmes','Avellaneda','Lanus']\n",
    "print('Ciudades: ',ListaCiudades)\n",
    "print(len(ListaCiudades))"
   ]
  },
  {
   "cell_type": "markdown",
   "metadata": {},
   "source": [
    "8) Agregar otra ciudad, pero en la cuarta posición"
   ]
  },
  {
   "cell_type": "code",
   "execution_count": null,
   "metadata": {},
   "outputs": [],
   "source": [
    "ListaCiudades.insert(3,'La plata')\n",
    "print(len(ListaCiudades))\n",
    "#ListaCiudades.[5]\n",
    "#print('Ciudades: ',ListaCiudades)"
   ]
  },
  {
   "cell_type": "markdown",
   "metadata": {},
   "source": [
    "9) Concatenar otra lista a la ya creada\n"
   ]
  },
  {
   "cell_type": "code",
   "execution_count": null,
   "metadata": {},
   "outputs": [],
   "source": [
    "ListaProvincias=[\"Buenos Aires\",\"Santafe\",\"Chubut\"]\n",
    "ListaCiudades.extend(ListaProvincias)\n",
    "print(len(ListaCiudades))\n",
    "for ciudades in range(len(ListaCiudades)):\n",
    "    print(ListaCiudades[ciudades])"
   ]
  },
  {
   "cell_type": "markdown",
   "metadata": {},
   "source": [
    "10) Encontrar el índice de la ciudad que en el punto 7 agregamos duplicada. ¿Se nota alguna particularidad?"
   ]
  },
  {
   "cell_type": "code",
   "execution_count": null,
   "metadata": {},
   "outputs": [],
   "source": [
    "#index encuentra el primer indice\n",
    "ListaCiudades.sort\n",
    "for IndiceListaCiudades in range(len(ListaCiudades)):\n",
    "    #IndiceBuscado=ListaCiudades.index(\"Avellaneda\")\n",
    "    CiudadBuscada=ListaCiudades[IndiceListaCiudades]\n",
    "\n",
    "    if (CiudadBuscada==\"Avellaneda\"):\n",
    "        print(\"El indice buscado para la ciudad: \",ListaCiudades[IndiceListaCiudades],\" es \",IndiceListaCiudades )"
   ]
  },
  {
   "cell_type": "markdown",
   "metadata": {},
   "source": [
    "11) ¿Qué pasa si se busca un elemento que no existe?"
   ]
  },
  {
   "cell_type": "code",
   "execution_count": null,
   "metadata": {},
   "outputs": [],
   "source": [
    "#arroja un error\n",
    "IndiceBuscado=ListaCiudades.index(\"paola\")\n",
    "print(\"El indice buscado para la ciudad:\" ,IndiceBuscado)"
   ]
  },
  {
   "cell_type": "markdown",
   "metadata": {},
   "source": [
    "12) Eliminar un elemento de la lista"
   ]
  },
  {
   "cell_type": "code",
   "execution_count": null,
   "metadata": {},
   "outputs": [],
   "source": [
    "\n",
    "#del ListaCiudades[2]\n",
    "#print(len(ListaCiudades))\n",
    "for CiudadBuscada in ListaCiudades:\n",
    "    #print(CiudadBuscada)\n",
    "    if (CiudadBuscada==\"Avellaneda\"):\n",
    "        print(\"Existe: \", CiudadBuscada)"
   ]
  },
  {
   "cell_type": "markdown",
   "metadata": {},
   "source": [
    "13) ¿Qué pasa si el elemento a eliminar no existe?"
   ]
  },
  {
   "cell_type": "code",
   "execution_count": null,
   "metadata": {},
   "outputs": [],
   "source": [
    "ListaCiudades.remove(\"LAURA\")\n",
    "#arroja un error"
   ]
  },
  {
   "cell_type": "markdown",
   "metadata": {},
   "source": [
    "14) Extraer el úlimo elemento de la lista, guardarlo en una variable e imprimirlo"
   ]
  },
  {
   "cell_type": "code",
   "execution_count": null,
   "metadata": {},
   "outputs": [],
   "source": [
    "LenListaCiudades=len(ListaCiudades)-1\n",
    "#print(LenListaCiudades)\n",
    "for IndiceListaCiudades in range (LenListaCiudades,0,-1):\n",
    "   #print(\"Ciudad :\")\n",
    "    print(\"Ciudad :\",ListaCiudades[IndiceListaCiudades])"
   ]
  },
  {
   "cell_type": "markdown",
   "metadata": {},
   "source": [
    "15) Mostrar la lista multiplicada por 4"
   ]
  },
  {
   "cell_type": "code",
   "execution_count": null,
   "metadata": {},
   "outputs": [],
   "source": [
    "ListaMultiplicada=ListaCiudades*4\n",
    "print(\"Lista multiplicada: \", ListaMultiplicada)"
   ]
  },
  {
   "cell_type": "markdown",
   "metadata": {},
   "source": [
    "16) Crear una tupla que contenga los números enteros del 1 al 20"
   ]
  },
  {
   "cell_type": "code",
   "execution_count": null,
   "metadata": {},
   "outputs": [],
   "source": [
    "ListaNumeros=[]\n",
    "numero=1\n",
    "for IndiceListaNumeros in range(0,20):\n",
    "    #print(IndiceListaNumeros)\n",
    "    ListaNumeros.append(numero)\n",
    "    numero+=1\n",
    "\n",
    "TuplaNumeros=tuple(ListaNumeros)\n",
    "#print(ListaNumeros)    \n",
    "print(TuplaNumeros)   "
   ]
  },
  {
   "cell_type": "markdown",
   "metadata": {},
   "source": [
    "17) Imprimir desde el índice 10 al 15 de la tupla"
   ]
  },
  {
   "cell_type": "code",
   "execution_count": null,
   "metadata": {},
   "outputs": [],
   "source": [
    "for IndiceTuplaNumeros in range(10,15):\n",
    "    print(TuplaNumeros[IndiceTuplaNumeros])"
   ]
  },
  {
   "cell_type": "markdown",
   "metadata": {},
   "source": [
    "18) Evaluar si los números 20 y 30 están dentro de la tupla"
   ]
  },
  {
   "cell_type": "code",
   "execution_count": null,
   "metadata": {},
   "outputs": [],
   "source": [
    "#TuplaNumeros.count(20)\n",
    "print(TuplaNumeros.count(20))\n",
    "#TuplaNumeros.count(30)\n",
    "print(TuplaNumeros.count(30))"
   ]
  },
  {
   "cell_type": "markdown",
   "metadata": {},
   "source": [
    "19) Con la lista creada en el punto 1, validar la existencia del elemento 'París' y si no existe, agregarlo. Utilizar una variable e informar lo sucedido."
   ]
  },
  {
   "cell_type": "code",
   "execution_count": null,
   "metadata": {},
   "outputs": [],
   "source": [
    "ListaNombresCiudades.count(\"paris\")\n",
    "ListaNombresCiudades.append(\"paris\")\n",
    "print(ListaNombresCiudades)\n"
   ]
  },
  {
   "cell_type": "markdown",
   "metadata": {},
   "source": [
    "20) Mostrar la cantidad de veces que se encuentra un elemento específico dentro de la tupla y de la lista"
   ]
  },
  {
   "cell_type": "markdown",
   "metadata": {},
   "source": [
    "21) Convertir la tupla en una lista"
   ]
  },
  {
   "cell_type": "code",
   "execution_count": null,
   "metadata": {},
   "outputs": [],
   "source": [
    "ListaNumeros=list(TuplaNumeros)"
   ]
  },
  {
   "cell_type": "markdown",
   "metadata": {},
   "source": [
    "22) Desempaquetar solo los primeros 3 elementos de la tupla en 3 variables"
   ]
  },
  {
   "cell_type": "code",
   "execution_count": null,
   "metadata": {},
   "outputs": [],
   "source": [
    "numero1, numero2, numero3, *numero4=TuplaNumeros\n",
    "print(numero1, numero2, numero3 )\n"
   ]
  },
  {
   "cell_type": "markdown",
   "metadata": {},
   "source": [
    "23) Crear un diccionario utilizando la lista crada en el punto 1, asignandole la clave \"ciudad\". Agregar tambien otras claves, como puede ser \"Pais\" y \"Continente\".\n"
   ]
  },
  {
   "cell_type": "code",
   "execution_count": null,
   "metadata": {},
   "outputs": [],
   "source": [
    "#ListaClavesCiudades=[\"Ciudad\"]\n",
    "#DiccionarioCiudades=dict(zip(ListaClavesCiudades, ListaCiudades))\n",
    "#DiccionarioCiudades[\"Pais\"]=\"Argentina\",\"Argentina\",\"Argentina\",\"Argentina\",\"Argentina\",\"Argentina\",\"Argentina\",\"Argentina\",\"Argentina\",\"Argentina\",\"Argentina\",\"Argentina\",\"Argentina\",\"Argentina\",\"Argentina\",\"Argentina\"\n",
    "#DiccionarioCiudades[\"Continente\"]=\"America\",\"America\",\"America\",\"America\",\"America\",\"America\",\"America\",\"America\",\"America\",\"America\",\"America\",\"America\",\"America\",\"America\",\"America\"\n",
    "\n",
    "ListaPais=[\"Argentina\",\"Argentina\",\"Argentina\",\"Argentina\",\"Argentina\",\"Argentina\",\"Argentina\",\"Argentina\",\"Argentina\",\"Argentina\",\"Argentina\",\"Argentina\",\"Argentina\",\"Argentina\",\"Argentina\",\"Argentina\"]\n",
    "ListaContinente=[\"America\",\"America\",\"America\",\"America\",\"America\",\"America\",\"America\",\"America\",\"America\",\"America\",\"America\",\"America\",\"America\",\"America\",\"America\"]\n",
    "\n",
    "\n",
    "DiccionarioCiudades={\"Ciudad\":ListaCiudades,\"Pais\": ListaPais,\"Continente\":ListaContinente}\n",
    "\n",
    "print(DiccionarioCiudades)\n"
   ]
  },
  {
   "cell_type": "markdown",
   "metadata": {},
   "source": [
    "24) Imprimir las claves del diccionario"
   ]
  },
  {
   "cell_type": "code",
   "execution_count": null,
   "metadata": {},
   "outputs": [],
   "source": [
    "print(DiccionarioCiudades.keys())"
   ]
  },
  {
   "cell_type": "markdown",
   "metadata": {},
   "source": [
    "25) Imprimir las ciudades a través de su clave"
   ]
  },
  {
   "cell_type": "code",
   "execution_count": null,
   "metadata": {},
   "outputs": [],
   "source": [
    "print(DiccionarioCiudades[\"Ciudad\"])"
   ]
  }
 ],
 "metadata": {
  "kernelspec": {
   "display_name": "Python 3 (ipykernel)",
   "language": "python",
   "name": "python3"
  },
  "language_info": {
   "codemirror_mode": {
    "name": "ipython",
    "version": 3
   },
   "file_extension": ".py",
   "mimetype": "text/x-python",
   "name": "python",
   "nbconvert_exporter": "python",
   "pygments_lexer": "ipython3",
   "version": "3.10.2"
  }
 },
 "nbformat": 4,
 "nbformat_minor": 4
}
