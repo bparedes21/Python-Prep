{
 "cells": [
  {
   "cell_type": "code",
   "execution_count": null,
   "metadata": {},
   "outputs": [],
   "source": [
    "\n",
    "1) A partir de una lista vacía, utilizar un ciclo while \n",
    "para cargar allí números negativos del -15 al -1"
   ]
  },
  {
   "cell_type": "code",
   "execution_count": null,
   "metadata": {},
   "outputs": [],
   "source": [
    "n=-15\n",
    "ListaNegativos=[]\n",
    "while 0>n:\n",
    "    \n",
    "    ListaNegativos.append(n)\n",
    "    n+=1  \n",
    "print(ListaNegativos)    "
   ]
  },
  {
   "cell_type": "markdown",
   "metadata": {},
   "source": [
    "2) ¿Con un ciclo while sería posible recorrer la lista para imprimir sólo los números pares?"
   ]
  },
  {
   "cell_type": "code",
   "execution_count": null,
   "metadata": {},
   "outputs": [],
   "source": [
    "n=0\n",
    "#while n<14 :\n",
    "while n<len(ListaNegativos) :\n",
    "    ResultadoDivision=ListaNegativos[n]%2\n",
    "    if(ResultadoDivision==0):\n",
    "        print(\"El numero \",ListaNegativos[n],\" Es par\")\n",
    "\n",
    "    n+=1\n",
    "    #print(ResultadoDivision)"
   ]
  },
  {
   "cell_type": "markdown",
   "metadata": {},
   "source": [
    "3) Resolver el punto anterior sin utilizar un ciclo while"
   ]
  },
  {
   "cell_type": "code",
   "execution_count": null,
   "metadata": {},
   "outputs": [],
   "source": [
    "for IndiceLista in ListaNegativos:\n",
    "    ResultadoDivision=ListaNegativos[IndiceLista]%2\n",
    "    if(ResultadoDivision==0):\n",
    "        "
   ]
  },
  {
   "cell_type": "markdown",
   "metadata": {},
   "source": [
    "4) Utilizar el iterable para recorrer sólo los primeros 3 elementos"
   ]
  },
  {
   "cell_type": "code",
   "execution_count": null,
   "metadata": {},
   "outputs": [],
   "source": [
    "for IndiceNegativos in range (0,3):\n",
    "    ListaNegativos[IndiceNegativos]\n",
    "    print(\"hola\",ListaNegativos[IndiceNegativos])\n"
   ]
  },
  {
   "cell_type": "markdown",
   "metadata": {},
   "source": [
    "5) Utilizar la función **enumerate** para obtener dentro del iterable, tambien el índice al que corresponde el elemento"
   ]
  },
  {
   "cell_type": "code",
   "execution_count": null,
   "metadata": {},
   "outputs": [],
   "source": [
    "for indice, contenido in enumerate(ListaNegativos):\n",
    "    print(indice, contenido)"
   ]
  },
  {
   "cell_type": "markdown",
   "metadata": {},
   "source": [
    "6) Dada la siguiente lista de números enteros entre 1 y 20, crear un ciclo donde se completen los valores faltantes: lista = [1,2,5,7,8,10,13,14,15,17,20]"
   ]
  },
  {
   "cell_type": "code",
   "execution_count": null,
   "metadata": {},
   "outputs": [],
   "source": [
    "lista = [1,2,5,7,8,10,13,14,15,17,20]\n",
    "ContadorIndice=0\n",
    "ContadorNumero=1\n",
    "ContenidoLista=lista[0]\n",
    "while(ContenidoLista!=20):\n",
    "    \n",
    "   \n",
    "    if(ContadorNumero != lista[ContadorIndice]):\n",
    "        lista.insert(ContadorIndice ,ContadorNumero)\n",
    "        print(\"numnero ingresado \", ContadorNumero)\n",
    "    else:        \n",
    "        print(\"no hay numnero ingresado \", ContadorNumero)\n",
    "       \n",
    "    ContadorNumero+=1\n",
    "    ContadorIndice+=1  \n",
    "    ContenidoLista= lista[ContadorIndice]\n",
    "    print(\"siguiente numero indice\",ContadorIndice)   \n",
    " \n",
    "lista    "
   ]
  },
  {
   "cell_type": "markdown",
   "metadata": {},
   "source": [
    "7) La sucesión de Fibonacci es un listado de números que sigue la fórmula: <br>\n",
    "n<sub>0</sub> = 0<br>\n",
    "n<sub>1</sub> = 1<br>\n",
    "n<sub>i</sub> = n<sub>i-1</sub> + n<sub>i-2</sub><br>\n",
    "Crear una lista con los primeros treinta números de la sucesión.<br>"
   ]
  },
  {
   "cell_type": "code",
   "execution_count": null,
   "metadata": {},
   "outputs": [],
   "source": [
    "ContadorNumerosFibonacci=0\n",
    "NumeroDos=1\n",
    "NumeroUno=0\n",
    "ListaNumerosFibonacci=[]\n",
    "while (ContadorNumerosFibonacci<30 ):\n",
    "   \n",
    "    ResultadoSuma= NumeroUno + NumeroDos\n",
    "    \n",
    "    if(ResultadoSuma>NumeroDos):\n",
    "        NumeroDos=NumeroUno\n",
    "        NumeroUno=ResultadoSuma\n",
    "    else:\n",
    "        NumeroUno=ResultadoSuma    \n",
    "    print(ResultadoSuma)\n",
    "    ListaNumerosFibonacci.append(NumeroUno)\n",
    "    ContadorNumerosFibonacci +=1\n"
   ]
  },
  {
   "cell_type": "markdown",
   "metadata": {},
   "source": [
    "8) Realizar la suma de todos elementos de la lista del punto anterior"
   ]
  },
  {
   "cell_type": "code",
   "execution_count": null,
   "metadata": {},
   "outputs": [],
   "source": [
    "def SumaNumeros (ListaNumerosFibo):\n",
    "    AnchoLista=len(ListaNumerosFibo)\n",
    "   \n",
    "    SumaLista=0\n",
    "    print(AnchoLista)\n",
    "    for NumerosIndice in range (0, AnchoLista):\n",
    "       SumaLista+=ListaNumerosFibo[NumerosIndice]\n",
    "       print(\"suma \",SumaLista)\n",
    "    return SumaLista\n",
    "\n",
    "SumaNumerosFibo=0\n",
    "SumaNumerosFibo=SumaNumeros (ListaNumerosFibonacci)\n",
    "print(\"esta es la suma \",SumaNumerosFibo)"
   ]
  },
  {
   "cell_type": "markdown",
   "metadata": {},
   "source": [
    "9) La proporción aurea se expresa con una proporción matemática que nace el número irracional Phi= 1,618… que los griegos llamaron número áureo. El cuál se puede aproximar con la sucesión de Fibonacci. Con la lista del ejercicio anterior, imprimir el cociente de los últimos 5 pares de dos números contiguos:<br>\n",
    "Donde i es la cantidad total de elementos<br>\n",
    "n<sub>i-1</sub> / n<sub>i</sub><br>\n",
    "n<sub>i-2</sub> / n<sub>i-1</sub><br>\n",
    "n<sub>i-3</sub> / n<sub>i-2</sub><br>\n",
    "n<sub>i-4</sub> / n<sub>i-3</sub><br>\n",
    "n<sub>i-5</sub> / n<sub>i-4</sub><br>"
   ]
  },
  {
   "cell_type": "code",
   "execution_count": null,
   "metadata": {},
   "outputs": [],
   "source": [
    "ContadorProporcion=0\n",
    "AnchoListaDivi=len(ListaNumerosFibonacci)-1\n",
    "for IndiceProporción in range ( AnchoListaDivi,24,-1):\n",
    "    ContadorProporcion+=1\n",
    "    NumeroMayor=ListaNumerosFibonacci[IndiceProporción]\n",
    "    NumeroMenor=ListaNumerosFibonacci[IndiceProporción-1]\n",
    "    ResultadoProporcion=NumeroMayor/NumeroMenor\n",
    "    print(\"Numero mayor \",NumeroMayor,\"Numero menor \",NumeroMenor)\n",
    "    print(\"Proporcion \",ContadorProporcion,\" resultado\",ResultadoProporcion)"
   ]
  },
  {
   "cell_type": "markdown",
   "metadata": {},
   "source": [
    "10) A partir de la variable cadena ya dada, mostrar en qué posiciones aparece la letra \"n\"<br>\n",
    "cadena = 'Hola Mundo. Esto es una practica del lenguaje de programación Python'"
   ]
  },
  {
   "cell_type": "code",
   "execution_count": null,
   "metadata": {},
   "outputs": [],
   "source": [
    "cadena = \"Hola Mundo\"\n",
    "for IndiceLetra, Letra in enumerate(cadena):\n",
    "    if(Letra==\"n\"):\n",
    "        print(\"posicion \",IndiceLetra)"
   ]
  },
  {
   "cell_type": "markdown",
   "metadata": {},
   "source": [
    "11) Crear un diccionario e imprimir sus claves utilizando un iterador"
   ]
  },
  {
   "cell_type": "code",
   "execution_count": null,
   "metadata": {},
   "outputs": [],
   "source": [
    "MiDiccionario={\"clave1\":(\"contenido\",\"contenido\",\"contenido\",\"contenido\")}\n",
    "for j in MiDiccionario:\n",
    "    print(j)"
   ]
  },
  {
   "cell_type": "markdown",
   "metadata": {},
   "source": [
    "12) Convertir en una lista la variable \"cadena\" del punto 10 y luego recorrerla con un iterador "
   ]
  },
  {
   "cell_type": "code",
   "execution_count": null,
   "metadata": {},
   "outputs": [],
   "source": [
    "print(type(cadena))\n",
    "ListaCadena=list(cadena)\n",
    "\n",
    "print(type(ListaCadena))\n",
    "\n",
    "AnchoCadena=len(ListaCadena)\n",
    "\n",
    "IteradorCadena=iter(ListaCadena)\n",
    "contador=0\n",
    "for IndiceCadena in range (0,AnchoCadena):\n",
    " \n",
    "    print(next(IteradorCadena))\n",
    "\n"
   ]
  },
  {
   "cell_type": "markdown",
   "metadata": {},
   "source": [
    "13) Crear dos listas y unirlas en una tupla utilizando la función zip"
   ]
  },
  {
   "cell_type": "code",
   "execution_count": null,
   "metadata": {},
   "outputs": [],
   "source": [
    "ListaUno=[\"letraA\",\"LetraB\",\"LetraC\",\"LetraE\"]\n",
    "ListaDos=[\"LetraF\",\"LetraG\",\"LetraH\",\"LetraI\"]\n",
    "TuplaUno=zip(ListaDos,ListaUno)\n",
    "print(type(TuplaUno))\n",
    "list(TuplaUno)"
   ]
  },
  {
   "cell_type": "markdown",
   "metadata": {},
   "source": [
    "14) A partir de la siguiente lista de números, crear una nueva sólo si el número es divisible por 7<br>\n",
    "lis = [18,21,29,32,35,42,56,60,63,71,84,90,91,100]\n"
   ]
  },
  {
   "cell_type": "code",
   "execution_count": 80,
   "metadata": {},
   "outputs": [
    {
     "name": "stdout",
     "output_type": "stream",
     "text": [
      "resultado  0\n",
      "numero agregado  21\n",
      "resultado  0\n",
      "numero agregado  35\n",
      "resultado  0\n",
      "numero agregado  42\n",
      "resultado  0\n",
      "numero agregado  56\n",
      "resultado  0\n",
      "numero agregado  63\n",
      "resultado  0\n",
      "numero agregado  84\n",
      "resultado  0\n",
      "numero agregado  91\n"
     ]
    }
   ],
   "source": [
    "ListaNumeros = [18,21,29,32,35,42,56,60,63,71,84,90,91,100]\n",
    "ListaDivisibles=[]\n",
    "AnchoLis=len(ListaNumeros)\n",
    "ContadorIndiceLis=0\n",
    "while (ContadorIndiceLis<AnchoLis):\n",
    "    NumeroLista=ListaNumeros[ContadorIndiceLis]\n",
    "    ResultadoDiv=NumeroLista%7\n",
    "\n",
    "    if(ResultadoDiv==0):\n",
    "        print(\"resultado \",ResultadoDiv)\n",
    "        ListaDivisibles.append(NumeroLista)\n",
    "        print(\"numero agregado \",NumeroLista)\n",
    "    ContadorIndiceLis+=1"
   ]
  },
  {
   "cell_type": "markdown",
   "metadata": {},
   "source": [
    "15) A partir de la lista de a continuación, contar la cantidad total de elementos que contiene, teniendo en cuenta que un elemento de la lista podría ser otra lista:<br>\n",
    "lis = [[1,2,3,4],'rojo','verde',[True,False,False],['uno','dos','tres']]"
   ]
  },
  {
   "cell_type": "code",
   "execution_count": 81,
   "metadata": {},
   "outputs": [
    {
     "name": "stdout",
     "output_type": "stream",
     "text": [
      "<class 'list'>\n",
      "<class 'list'>\n",
      "<class 'str'>\n",
      "<class 'str'>\n",
      "<class 'list'>\n",
      "<class 'list'>\n",
      "12\n"
     ]
    }
   ],
   "source": [
    "ListaElementos = [[1,2,3,4],'rojo','verde',[True,False,False],['uno','dos','tres']]\n",
    "print(type(ListaElementos))\n",
    "\n",
    "ResultadoSumaElementos=0\n",
    "for IndiceLista in ListaElementos:\n",
    "    print(type(IndiceLista))\n",
    "    if (type(IndiceLista)==list):\n",
    "        Ancholista=len(IndiceLista)\n",
    "        ResultadoSumaElementos+= Ancholista\n",
    "    else:\n",
    "        ResultadoSumaElementos+=1\n",
    "print(ResultadoSumaElementos)"
   ]
  },
  {
   "cell_type": "markdown",
   "metadata": {},
   "source": [
    "16) Tomar la lista del punto anterior y convertir cada elemento en una lista si no lo es"
   ]
  },
  {
   "cell_type": "code",
   "execution_count": 82,
   "metadata": {},
   "outputs": [
    {
     "name": "stdout",
     "output_type": "stream",
     "text": [
      "<class 'list'>\n",
      "Este es lista\n",
      "<class 'str'>\n",
      "<class 'str'>\n",
      "<class 'list'>\n",
      "Este es lista\n",
      "<class 'list'>\n",
      "Este es lista\n",
      "[[1, 2, 3, 4], ['rojo'], ['verde'], [True, False, False], ['uno', 'dos', 'tres']]\n"
     ]
    }
   ],
   "source": [
    "\n",
    "for IndiceLista, ElementoLista in enumerate(ListaElementos):\n",
    "    print(type(ElementoLista))\n",
    "    if (type(ElementoLista)==list):\n",
    "        print(\"Este es lista\")\n",
    "    else:\n",
    "        ListaElementos[IndiceLista]=[ElementoLista]\n",
    "        \n",
    "print( ListaElementos)"
   ]
  }
 ],
 "metadata": {
  "interpreter": {
   "hash": "2be5faf79681da6f2a61fdfdd5405d65d042280f7fba6178067603e3a2925119"
  },
  "kernelspec": {
   "display_name": "Python 3.10.2 64-bit",
   "language": "python",
   "name": "python3"
  },
  "language_info": {
   "codemirror_mode": {
    "name": "ipython",
    "version": 3
   },
   "file_extension": ".py",
   "mimetype": "text/x-python",
   "name": "python",
   "nbconvert_exporter": "python",
   "pygments_lexer": "ipython3",
   "version": "3.10.2"
  },
  "orig_nbformat": 4
 },
 "nbformat": 4,
 "nbformat_minor": 2
}
