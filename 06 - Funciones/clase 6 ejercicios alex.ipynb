{
 "cells": [
  {
   "cell_type": "code",
   "execution_count": null,
   "metadata": {},
   "outputs": [],
   "source": [
    "1) Crear una función que reciba un número como parámetro y devuelva\n",
    " si True si es primo y False si no lo es"
   ]
  },
  {
   "cell_type": "code",
   "execution_count": null,
   "metadata": {},
   "outputs": [],
   "source": [
    "def MostrarTrueOrFalse(numero):\n",
    "    ResultadoDivision=0\n",
    "    \n",
    "    AnchoNmero=int(numero/2)\n",
    "    \n",
    "    AnchoNmero+=1\n",
    "    RetornoPrimo=True\n",
    "    for IndiceNumero in range(2,AnchoNmero):\n",
    "        \n",
    "        ResultadoDivision=numero%IndiceNumero\n",
    "        \n",
    "        if(ResultadoDivision==0):\n",
    "            RetornoPrimo=False\n",
    "            break\n",
    "    return RetornoPrimo"
   ]
  },
  {
   "cell_type": "code",
   "execution_count": null,
   "metadata": {},
   "outputs": [],
   "source": [
    "numero=MostrarTrueOrFalse(5)\n",
    "print(numero)\n"
   ]
  },
  {
   "cell_type": "markdown",
   "metadata": {},
   "source": [
    "2) Utilizando la función del punto 1, realizar otra función que reciba de parámetro una lista de números y devuelva sólo aquellos que son primos en otra lista"
   ]
  },
  {
   "cell_type": "code",
   "execution_count": null,
   "metadata": {},
   "outputs": [],
   "source": [
    "\n",
    "def MostrarPrimo(numero):\n",
    "    contador=0\n",
    "    ResultadoDivision=0\n",
    "    ListaPrimos=[]\n",
    "    AnchoNmero=1\n",
    "    RetornoPrimo=True\n",
    "    NumeroDeLista=numero[contador]\n",
    "    AnchoNmero=int(NumeroDeLista/2)\n",
    "    \n",
    "    \n",
    "    for IndiceNumero in range(2,AnchoNmero):\n",
    "        \n",
    "        ResultadoDivision=NumeroDeLista%IndiceNumero\n",
    "        \n",
    "        if(ResultadoDivision==0):\n",
    "            RetornoPrimo=False\n",
    "            break\n",
    "            \n",
    "    contador+=1        \n",
    "    if (RetornoPrimo==True):\n",
    "        ListaPrimos.append(NumeroDeLista)\n",
    "    return ListaPrimos"
   ]
  },
  {
   "cell_type": "code",
   "execution_count": null,
   "metadata": {},
   "outputs": [],
   "source": [
    "def MostrarPrimosDeLista (L_Numeros):\n",
    "    LPrimos=[]\n",
    "    for elemento in L_Numeros:\n",
    "        retornoL=MostrarTrueOrFalse(elemento)  \n",
    "        if (retornoL==True):\n",
    "            LPrimos.append(elemento)\n",
    "    return LPrimos"
   ]
  },
  {
   "cell_type": "code",
   "execution_count": null,
   "metadata": {},
   "outputs": [],
   "source": [
    "ListaNumerosUno=[10,50,30,2,3,5,46,7,11,99]\n",
    "print(MostrarPrimosDeLista(ListaNumerosUno))"
   ]
  },
  {
   "cell_type": "markdown",
   "metadata": {},
   "source": [
    "3) Crear una función que al recibir una lista de números, devuelva el que más se repite y cuántas veces lo hace. Si hay más de un \"más repetido\", que devuelva cualquiera\n"
   ]
  },
  {
   "cell_type": "code",
   "execution_count": 194,
   "metadata": {},
   "outputs": [
    {
     "name": "stdout",
     "output_type": "stream",
     "text": [
      "este es el numero mas repetido 5\n",
      "retorna cantidad mas repetido 3\n"
     ]
    }
   ],
   "source": [
    "\n",
    "def BuscarElMasRepetido (ListaDeNum):\n",
    "    ListaDeNum.sort()\n",
    "    NumMasrepetido=[]\n",
    "    RetornoNum=[]\n",
    "    num=0\n",
    "    AnchoLista=0\n",
    "    retornCantidadMasRepet=0\n",
    "    #NummMayor=[]\n",
    "    for indice, elemento in enumerate (ListaDeNum):\n",
    "        \n",
    "        num=ListaDeNum.count(elemento)\n",
    "        \n",
    "        #print(\"numero antes\",num)\n",
    "        #print(\"numero antes\",NumMasrepetido)\n",
    "        if(num>1):\n",
    "            \n",
    "            #print(\"numero aca\",NumMasrepetido)\n",
    "            NumMasrepetido.append(elemento) \n",
    "            RetornoNum.append(num)\n",
    "            #print(\"numero mas repetido\",NumMasrepetido)\n",
    "            if(num>retornCantidadMasRepet):\n",
    "                retornCantidadMasRepet=num\n",
    "                indiceMasReptido=indice\n",
    "\n",
    "        RetornoNum.append(num)  \n",
    "        \n",
    "    retorNumerMasRepet=NumMasrepetido[indiceMasReptido]\n",
    "                \n",
    "    return retorNumerMasRepet, retornCantidadMasRepet\n",
    "    \n",
    "ListaNumerosUno = [1,1,5,6,8,10,22,5,6,4,11,9,5]\n",
    "NumeroMasRepetido=0\n",
    "NumeroCantidadRep=0\n",
    "NumeroMasRepetido,NumeroCantidadRep=BuscarElMasRepetido(ListaNumerosUno)\n",
    "print(\"este es el numero mas repetido\",NumeroMasRepetido)\n",
    "print(\"retorna cantidad mas repetido\",NumeroCantidadRep)\n"
   ]
  },
  {
   "cell_type": "markdown",
   "metadata": {},
   "source": [
    "4) A la función del punto 3, agregar un parámetro más, que permita elegir si se requiere el menor o el mayor de los mas repetidos."
   ]
  },
  {
   "cell_type": "code",
   "execution_count": 206,
   "metadata": {},
   "outputs": [
    {
     "name": "stdout",
     "output_type": "stream",
     "text": [
      "este es el numero mas repetido 5\n",
      "retorna cantidad mas repetido 3\n",
      "Numero mayor o menor  10\n",
      "Cantidad de veces que se repite  3\n"
     ]
    }
   ],
   "source": [
    "#este codigo funciona\n",
    "\n",
    "def BuscarElMasRepetido (ListaDeNum, NuevoParametro):\n",
    "    ListaDeNum.sort()\n",
    "    NumMasrepetido=[]\n",
    "    RetornoNum=[]\n",
    "    num=0\n",
    "    AnchoLista=0\n",
    "    retornCantidadMasRepet=0\n",
    "    retornaCant=0\n",
    "    #NummMayor=[]\n",
    "    #print(ListaDeNum)\n",
    "    for indice, elemento in enumerate (ListaDeNum):\n",
    "        \n",
    "        num=ListaDeNum.count(elemento)\n",
    "        \n",
    "        #print(\"numero antes\",num)\n",
    "        #print(\"numero antes\",NumMasrepetido)\n",
    "        if(num>1):\n",
    "            \n",
    "            #print(\"numero aca\",NumMasrepetido)\n",
    "            NumMasrepetido.append(elemento) \n",
    "            RetornoNum.append(num)\n",
    "            #print(\"numero mas repetido\",NumMasrepetido)\n",
    "            if(num>retornCantidadMasRepet):\n",
    "                retornCantidadMasRepet=num\n",
    "                indiceMasReptido=indice\n",
    "\n",
    "          \n",
    "        #print(\"numero aca\",num)  \n",
    "    retorNumerMasRepet=NumMasrepetido[indiceMasReptido]\n",
    "    #print(\"este es el numero mas repetido\",retorNumerMasRepet)\n",
    "    #print(\"retorna cantidad mas repetido\",retornCantidadMasRepet)\n",
    "\n",
    "    AnchoLista=len(NumMasrepetido)-1\n",
    "    #print(\"ancho\",AnchoLista)\n",
    "    #print(\"lista\",NumMasrepetido)\n",
    "    #print(NumMasrepetido)\n",
    "    #print(\"lista cantidad\",RetornoNum)\n",
    "    if(NuevoParametro==1):\n",
    "        retornoNumer=NumMasrepetido[AnchoLista]\n",
    "        retornaCant= RetornoNum[AnchoLista]\n",
    "    else:\n",
    "        retornoNumer=NumMasrepetido[0] \n",
    "        retornaCant= RetornoNum[0]\n",
    "    \n",
    "    #for IndiceLista in range(0, AnchoLista) :\n",
    "        #numeroUno=NumMasrepetido[IndiceLista]\n",
    "        #numeroDos=NumMasrepetido[IndiceLista+1]\n",
    "        #print(\"NUmeroUno\",numeroUno)\n",
    "        #print(\"NUmerodos\",numeroDos)\n",
    "        #print(\"IndiceLista\",IndiceLista ) \n",
    "        #if( numeroUno != numeroDos) or ( numeroDos != numeroUno):\n",
    "            #print(\"este es el lista numero IndiceLista\",IndiceLista+1 ) \n",
    "            #NummMayor.append(numeroDos)\n",
    "        #print(\"este es el mayor\",NummMayor)           \n",
    "    \n",
    "    #retorna el que mas se reepite, y cuantas veces lo hace, el numero mayor o menor,\n",
    "    # cantidad de veces que se repite             \n",
    "    return retorNumerMasRepet, retornCantidadMasRepet, retornoNumer, retornaCant\n",
    "ListaNumerosUno = [10,1,5,6,8,10,22,5,6,4,11,10,9,5]\n",
    "NumeroMasRepetido=0\n",
    "NumeroCantidadRep=0\n",
    "numeroMayor=0\n",
    "CantidadDeNumeroMayor=0\n",
    "\n",
    "NumeroMasRepetido,NumeroCantidadRep,numeroMayor,CantidadDeNumeroMayor=BuscarElMasRepetido(ListaNumerosUno,1)\n",
    "print(\"este es el numero mas repetido\",NumeroMasRepetido)\n",
    "print(\"retorna cantidad mas repetido\",NumeroCantidadRep)\n",
    "print(\"Numero mayor o menor \",numeroMayor)\n",
    "print(\"Cantidad de veces que se repite \",CantidadDeNumeroMayor)"
   ]
  },
  {
   "cell_type": "code",
   "execution_count": null,
   "metadata": {},
   "outputs": [],
   "source": [
    "#NO FUNCIONA\n",
    "ListaNumerosUno = [10,5,53,3,3,3,50,30,7,7,1,11,2,3,5,46,7,11,99]\n",
    "\n",
    "def BuscarElMasRepetido (ListaDeNum,ParametroDos):\n",
    "    NumMasrepetido=0\n",
    "    num=0\n",
    "    BanderaUno=0\n",
    "    NumeroParametro=0\n",
    "    ListaNumMasrepetido=[]\n",
    "    ListaRetornoNum=[]\n",
    "    for indice, elemento in enumerate (ListaDeNum):\n",
    "        num=ListaDeNum.count(elemento)\n",
    "        ListaRetornoNum.append(num)\n",
    "        ListaNumMasrepetido.append(elemento)\n",
    "        if(num>1)&(ListaRetornoNum[indice]> num):\n",
    "            NumMasrepetido=elemento\n",
    "            RetornoNum=num\n",
    "            #print(\"funciona \",NumMasrepetido)\n",
    "    print(ListaRetornoNum)\n",
    "    print()\n",
    "    tamañoLista=len(ListaNumMasrepetido)-1\n",
    "    for indiceLista in range (0, tamañoLista):\n",
    "        if  (ListaNumMasrepetido [indiceLista] > ListaNumMasrepetido [indiceLista+1] ) & (ParametroDos==1):\n",
    "            NumeroParametro=NumMasrepetido\n",
    "            print(\"if\",NumeroParametro)\n",
    "        else:\n",
    "            if ( ListaNumMasrepetido [indiceLista] > ListaNumMasrepetido [indiceLista+1] ):\n",
    "                \n",
    "                print(\"num\",num)\n",
    "                NumeroParametro=NumMasrepetido\n",
    "                print(\"else if\",NumeroParametro)            \n",
    "        \n",
    "\n",
    "    return NumMasrepetido, RetornoNum,NumeroParametro\n",
    "\n",
    "print(BuscarElMasRepetido(ListaNumerosUno,0))"
   ]
  },
  {
   "cell_type": "code",
   "execution_count": null,
   "metadata": {},
   "outputs": [],
   "source": [
    "#NO FUNCIONA\n",
    "ListaNumerosUno = [10,5,5,50,30,7,7,1,11,2,3,5,46,7,11,99]\n",
    "def BuscarElMasRepetidoDos (ListaDeNum,Nuevoparam):\n",
    "    ListaNumMasrepetido=[]\n",
    "    ListaRetornoNum=[]\n",
    "    contador=0\n",
    "    ContadorNUm=1\n",
    "    contadorIndice=0\n",
    "    tamañoLista=len(ListaDeNum)\n",
    "    NumeroMayor=0\n",
    "    NumeroRetMayor=0\n",
    "    numeroRetMenor=0\n",
    "    print(tamañoLista)\n",
    "    for indiceLista in range (0, tamañoLista):\n",
    "        numeroUno=ListaDeNum[indiceLista]\n",
    "      \n",
    "        contador+=1\n",
    "        for IndiceListaDos in range (contador, tamañoLista):\n",
    "            \n",
    "            if (numeroUno==ListaDeNum[IndiceListaDos]):\n",
    "                ContadorNUm+=1\n",
    "                \n",
    "        print(ListaNumMasrepetido)\n",
    "      \n",
    "     \n",
    "        \n",
    "        ListaNumMasrepetido.append(numeroUno)\n",
    "        ListaRetornoNum.append(ContadorNUm) \n",
    "        \n",
    "        print(ListaRetornoNum)\n",
    "        ContadorNUm=1\n",
    "        retornaIndice=0\n",
    "    print(ListaRetornoNum)   \n",
    "    print(ListaNumMasrepetido)      \n",
    "\n",
    "BuscarElMasRepetidoDos (ListaNumerosUno,5) \n"
   ]
  },
  {
   "cell_type": "markdown",
   "metadata": {},
   "source": [
    "5) Crear una función que convierta entre grados Celsius, Farenheit y Kelvin<br>\n",
    "Fórmula 1\t: (°C × 9/5) + 32 = °F<br>\n",
    "Fórmula 2\t: °C + 273.15 = °K<br>\n",
    "Debe recibir 3 parámetros: el valor, la medida de orígen y la medida de destino"
   ]
  }
 ],
 "metadata": {
  "interpreter": {
   "hash": "2be5faf79681da6f2a61fdfdd5405d65d042280f7fba6178067603e3a2925119"
  },
  "kernelspec": {
   "display_name": "Python 3.10.2 64-bit",
   "language": "python",
   "name": "python3"
  },
  "language_info": {
   "codemirror_mode": {
    "name": "ipython",
    "version": 3
   },
   "file_extension": ".py",
   "mimetype": "text/x-python",
   "name": "python",
   "nbconvert_exporter": "python",
   "pygments_lexer": "ipython3",
   "version": "3.10.2"
  },
  "orig_nbformat": 4
 },
 "nbformat": 4,
 "nbformat_minor": 2
}
